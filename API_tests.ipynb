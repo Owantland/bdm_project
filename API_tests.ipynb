{
  "cells": [
    {
      "cell_type": "code",
      "execution_count": 1,
      "metadata": {
        "colab": {
          "base_uri": "https://localhost:8080/"
        },
        "id": "wT5BL9nf73Yu",
        "outputId": "f0396722-8b21-4843-d219-c3611c363660"
      },
      "outputs": [
        {
          "name": "stdout",
          "output_type": "stream",
          "text": [
            "Collecting azure-storage-blob\n",
            "  Downloading azure_storage_blob-12.25.0-py3-none-any.whl.metadata (26 kB)\n",
            "Requirement already satisfied: requests in /opt/miniconda3/envs/tpc-di/lib/python3.12/site-packages (2.32.3)\n",
            "Requirement already satisfied: pandas in /opt/miniconda3/envs/tpc-di/lib/python3.12/site-packages (2.2.3)\n",
            "Collecting azure-core>=1.30.0 (from azure-storage-blob)\n",
            "  Downloading azure_core-1.32.0-py3-none-any.whl.metadata (39 kB)\n",
            "Collecting cryptography>=2.1.4 (from azure-storage-blob)\n",
            "  Downloading cryptography-44.0.2-cp39-abi3-macosx_10_9_universal2.whl.metadata (5.7 kB)\n",
            "Requirement already satisfied: typing-extensions>=4.6.0 in /opt/miniconda3/envs/tpc-di/lib/python3.12/site-packages (from azure-storage-blob) (4.11.0)\n",
            "Collecting isodate>=0.6.1 (from azure-storage-blob)\n",
            "  Downloading isodate-0.7.2-py3-none-any.whl.metadata (11 kB)\n",
            "Requirement already satisfied: charset-normalizer<4,>=2 in /opt/miniconda3/envs/tpc-di/lib/python3.12/site-packages (from requests) (3.3.2)\n",
            "Requirement already satisfied: idna<4,>=2.5 in /opt/miniconda3/envs/tpc-di/lib/python3.12/site-packages (from requests) (3.7)\n",
            "Requirement already satisfied: urllib3<3,>=1.21.1 in /opt/miniconda3/envs/tpc-di/lib/python3.12/site-packages (from requests) (2.2.3)\n",
            "Requirement already satisfied: certifi>=2017.4.17 in /opt/miniconda3/envs/tpc-di/lib/python3.12/site-packages (from requests) (2025.1.31)\n",
            "Requirement already satisfied: numpy>=1.26.0 in /opt/miniconda3/envs/tpc-di/lib/python3.12/site-packages (from pandas) (1.26.3)\n",
            "Requirement already satisfied: python-dateutil>=2.8.2 in /opt/miniconda3/envs/tpc-di/lib/python3.12/site-packages (from pandas) (2.9.0.post0)\n",
            "Requirement already satisfied: pytz>=2020.1 in /opt/miniconda3/envs/tpc-di/lib/python3.12/site-packages (from pandas) (2024.1)\n",
            "Requirement already satisfied: tzdata>=2022.7 in /opt/miniconda3/envs/tpc-di/lib/python3.12/site-packages (from pandas) (2024.2)\n",
            "Requirement already satisfied: six>=1.11.0 in /opt/miniconda3/envs/tpc-di/lib/python3.12/site-packages (from azure-core>=1.30.0->azure-storage-blob) (1.16.0)\n",
            "Requirement already satisfied: cffi>=1.12 in /opt/miniconda3/envs/tpc-di/lib/python3.12/site-packages (from cryptography>=2.1.4->azure-storage-blob) (1.17.1)\n",
            "Requirement already satisfied: pycparser in /opt/miniconda3/envs/tpc-di/lib/python3.12/site-packages (from cffi>=1.12->cryptography>=2.1.4->azure-storage-blob) (2.21)\n",
            "Downloading azure_storage_blob-12.25.0-py3-none-any.whl (406 kB)\n",
            "Downloading azure_core-1.32.0-py3-none-any.whl (198 kB)\n",
            "Downloading cryptography-44.0.2-cp39-abi3-macosx_10_9_universal2.whl (6.7 MB)\n",
            "\u001b[2K   \u001b[90m━━━━━━━━━━━━━━━━━━━━━━━━━━━━━━━━━━━━━━━━\u001b[0m \u001b[32m6.7/6.7 MB\u001b[0m \u001b[31m28.5 MB/s\u001b[0m eta \u001b[36m0:00:00\u001b[0m00:01\u001b[0m\n",
            "\u001b[?25hDownloading isodate-0.7.2-py3-none-any.whl (22 kB)\n",
            "Installing collected packages: isodate, cryptography, azure-core, azure-storage-blob\n",
            "Successfully installed azure-core-1.32.0 azure-storage-blob-12.25.0 cryptography-44.0.2 isodate-0.7.2\n"
          ]
        }
      ],
      "source": [
        "! pip install azure-storage-blob requests pandas"
      ]
    },
    {
      "cell_type": "code",
      "execution_count": 21,
      "metadata": {
        "id": "wgO-3_DDtKM-"
      },
      "outputs": [],
      "source": [
        "import requests as req\n",
        "import pandas as pd\n",
        "from azure.storage.blob import BlobServiceClient\n",
        "import os\n",
        "from tqdm import tqdm\n",
        "import json\n",
        "from datetime import datetime, timedelta\n"
      ]
    },
    {
      "cell_type": "code",
      "execution_count": null,
      "metadata": {},
      "outputs": [],
      "source": [
        "os.environ[\"AZURE_CONNECTION_STRING\"] = \"key\"\n",
        "os.environ[\"RAPID_API_KEY\"] = \"key\"\n",
        "os.environ[\"RAPID_API_HOST\"] = \"host\"\n",
        "os.environ[\"OPENROUTE_KEY\"] = 'key'"
      ]
    },
    {
      "cell_type": "code",
      "execution_count": 3,
      "metadata": {
        "id": "ZQOLKA6O788v"
      },
      "outputs": [],
      "source": [
        "connection_string = os.getenv('AZURE_CONNECTION_STRING')\n",
        "blob_service_client = BlobServiceClient.from_connection_string(connection_string)"
      ]
    },
    {
      "cell_type": "code",
      "execution_count": 4,
      "metadata": {
        "id": "YMn_TXVu-JRG"
      },
      "outputs": [],
      "source": [
        "def upload_blob(client, blob_name, local_file_path):\n",
        "  container_name = \"bdmcontainerp1\"\n",
        "  container_client = blob_service_client.get_container_client(container_name)\n",
        "\n",
        "  with open(local_file_path, \"rb\") as data:\n",
        "      container_client.upload_blob(name=blob_name, data=data, overwrite=True)\n",
        "\n",
        "  blobs = [blob.name for blob in container_client.list_blobs()]\n",
        "  if blob_name not in blobs:\n",
        "    raise Exception(\"Blob was not uploaded\")"
      ]
    },
    {
      "cell_type": "markdown",
      "metadata": {
        "id": "dL-P6vyqqybN"
      },
      "source": [
        "# Weather Data\n",
        "Check for more examples:  https://open-meteo.com/\n"
      ]
    },
    {
      "cell_type": "code",
      "execution_count": null,
      "metadata": {
        "colab": {
          "base_uri": "https://localhost:8080/",
          "height": 206
        },
        "id": "Ki9cZcII2E1d",
        "outputId": "24216c9a-bb02-4496-d19c-318f32d4c8c1"
      },
      "outputs": [
        {
          "data": {
            "text/plain": [
              "200"
            ]
          },
          "execution_count": 24,
          "metadata": {},
          "output_type": "execute_result"
        }
      ],
      "source": [
        "latitude = 41.3874\n",
        "longitude = 2.1686\n",
        "city_coords = {\n",
        "                'Barcelona': {'latitude': 41.3874, 'longitude': 2.1686},\n",
        "                'Paris': {'latitude': 48.8575, 'longitude': 2.3514},\n",
        "                'Madrid': {'latitude': 40.4167, 'longitude': 3.7033},\n",
        "                'Rome': {'latitude': 41.8967, 'longitude': 12.4822}\n",
        "                }\n",
        "\n",
        "start_date = '2025-03-30'\n",
        "end_date = '2025-03-30'\n",
        "hourly = 'temperature_2m,precipitation_probability,apparent_temperature,precipitation,cloud_cover,wind_speed_10m'\n",
        "querystring = {\n",
        "                'latitude':latitude,\n",
        "                'longitude':longitude,\n",
        "                'hourly':hourly,\n",
        "                'start_date':start_date,\n",
        "                'end_date':end_date\n",
        "                }\n",
        "\n",
        "weather_endpoint = f'https://api.open-meteo.com/v1/forecast'\n",
        "weather_res = req.get(weather_endpoint, params=querystring).json()\n",
        "weather_res"
      ]
    },
    {
      "cell_type": "markdown",
      "metadata": {
        "id": "PJ-WdmD5q04J"
      },
      "source": [
        "# Accomodation\n",
        "\n",
        "Check for more examples: https://rapidapi.com/DataCrawler/api/booking-com15/playground/apiendpoint_818c2744-8507-4071-829e-d080b667a06c"
      ]
    },
    {
      "cell_type": "code",
      "execution_count": 27,
      "metadata": {
        "colab": {
          "base_uri": "https://localhost:8080/"
        },
        "id": "AxO6GyDJ4J5h",
        "outputId": "3401172b-fa23-4ef9-e605-05d1cbf40350"
      },
      "outputs": [],
      "source": [
        "def save_images(res, client, querystring, city):\n",
        "    hotels = res['data']['hotels']\n",
        "    for hotel in hotels:\n",
        "        photos = hotel['property']['photoUrls']\n",
        "        for photo in photos:\n",
        "            img_res = req.get(photo, stream=True)\n",
        "            filename = city + '/' + str(hotel['hotel_id']) + '_' + querystring['dest_id'] + '_' + querystring['arrival_date'] + '_' + querystring['departure_date'] + '.jpg'\n",
        "            if img_res.status_code == 200:\n",
        "                with open('accomodation_images/' + filename, \"wb\") as file:\n",
        "                    for chunk in img_res.iter_content(1024):  # Guardar en bloques de 1024 bytes\n",
        "                        file.write(chunk)\n",
        "            upload_blob(client, f'accomodation_images/{filename}', f'accomodation_images/{filename}')\n",
        "            os.remove(f'accomodation_images/{filename}')"
      ]
    },
    {
      "cell_type": "code",
      "execution_count": 28,
      "metadata": {},
      "outputs": [],
      "source": [
        "def save_json(res, filename):\n",
        "    with open(filename, 'w') as file:\n",
        "        json.dump(res, file)"
      ]
    },
    {
      "cell_type": "code",
      "execution_count": null,
      "metadata": {},
      "outputs": [
        {
          "name": "stderr",
          "output_type": "stream",
          "text": [
            " 50%|█████     | 1/2 [01:45<01:45, 105.33s/it]"
          ]
        }
      ],
      "source": [
        "accomodation_endpoint = \"https://booking-com15.p.rapidapi.com/api/v1/hotels/searchHotels\"\n",
        "weather_endpoint = f'https://api.open-meteo.com/v1/forecast'\n",
        "\n",
        "delta = timedelta(days=1)\n",
        "\n",
        "destination_ids = {\n",
        "    \"Barcelona\": \"-372490\",\n",
        "    \"Rome\": \"-126693\",\n",
        "    \"Madrid\": \"-390625\",\n",
        "    \"Paris\": \"-1456928\"\n",
        "}\n",
        "\n",
        "headers = {\n",
        "            \"x-rapidapi-key\": os.environ[\"RAPID_API_KEY\"],\n",
        "            \"x-rapidapi-host\": os.environ[\"RAPID_API_HOST\"]\n",
        "        }\n",
        "\n",
        "accomodation_querystring = {\n",
        "            \"dest_id\": '',\n",
        "            \"search_type\": \"CITY\",\n",
        "            \"arrival_date\": '',\n",
        "            \"departure_date\": '',\n",
        "            \"adults\": \"2\",\n",
        "            \"children_age\": \"0\",\n",
        "            \"room_qty\": \"1\",\n",
        "            \"page_number\": \"1\",\n",
        "            \"units\": \"metric\",\n",
        "            \"temperature_unit\": \"c\",\n",
        "            \"languagecode\": \"en-us\",\n",
        "            \"currency_code\": \"EUR\"\n",
        "        }\n",
        "\n",
        "destination_coords = {\n",
        "                'Barcelona': {'latitude': 41.3874, 'longitude': 2.1686},\n",
        "                'Paris': {'latitude': 48.8575, 'longitude': 2.3514},\n",
        "                'Madrid': {'latitude': 40.4167, 'longitude': 3.7033},\n",
        "                'Rome': {'latitude': 41.8967, 'longitude': 12.4822}\n",
        "                }\n",
        "\n",
        "weather_metrics = 'temperature_2m,precipitation_probability,apparent_temperature,precipitation,cloud_cover,wind_speed_10m'\n",
        "weather_querystring = {\n",
        "                'latitude': '',\n",
        "                'longitude': '',\n",
        "                'hourly': weather_metrics,\n",
        "                'start_date': '',\n",
        "                'end_date': ''\n",
        "                }\n",
        "\n",
        "start = datetime.strptime('2025-03-24', \"%Y-%m-%d\")\n",
        "end = datetime.strptime('2025-03-25', \"%Y-%m-%d\")\n",
        "try:\n",
        "    for single_date in tqdm([start + i * delta for i in range((end - start).days + 1)]):\n",
        "        arrival_date = single_date.strftime(\"%Y-%m-%d\")\n",
        "        departure_date = (single_date + timedelta(days=1)).strftime(\"%Y-%m-%d\")\n",
        "        start_date = single_date.replace(year=single_date.year - 1).strftime(\"%Y-%m-%d\")\n",
        "        end_date = (single_date + timedelta(days=1)).replace(year=single_date.year - 1).strftime(\"%Y-%m-%d\")\n",
        "\n",
        "        for city, city_id in destination_ids.items():\n",
        "            \n",
        "            accomodation_querystring['dest_id'] = city_id\n",
        "            accomodation_querystring['arrival_date'] = arrival_date\n",
        "            accomodation_querystring['departure_date'] = departure_date\n",
        "            \n",
        "            accomodation_res = req.get(accomodation_endpoint, headers=headers, params=accomodation_querystring)\n",
        "            if accomodation_res.status_code == 200:\n",
        "                accomodation_res = accomodation_res.json()\n",
        "                save_images(accomodation_res, blob_service_client, accomodation_querystring, city)\n",
        "                json_res_filename =  city + '/' + accomodation_querystring['arrival_date'] + '_' + accomodation_querystring['departure_date'] + '.json'\n",
        "                save_json(accomodation_res, f'accomodation/{json_res_filename}')\n",
        "                upload_blob(blob_service_client, f'accomodation/{json_res_filename}', f'accomodation/{json_res_filename}')\n",
        "                os.remove(f'accomodation/{json_res_filename}')\n",
        "            else:\n",
        "                print(city, arrival_date, departure_date)\n",
        "\n",
        "            latitude, longitude = destination_coords[city].values()\n",
        "            weather_querystring['latitude'] = latitude\n",
        "            weather_querystring['longitude'] = longitude\n",
        "            weather_querystring['start_date'] = start_date\n",
        "            weather_querystring['end_date'] = start_date\n",
        "            weather_json_filename = city + '/' + start_date + '.json'\n",
        "            \n",
        "            weather_res = req.get(weather_endpoint, params=weather_querystring)\n",
        "            if weather_res.status_code == 200:\n",
        "                weather_res = weather_res.json()\n",
        "                save_json(weather_res, f'weather/{weather_json_filename}')\n",
        "                upload_blob(blob_service_client, f'weather/{weather_json_filename}', f'weather/{weather_json_filename}')\n",
        "                os.remove(f'weather/{weather_json_filename}')\n",
        "            else:\n",
        "                print(city, start_date, end_date)\n",
        "except Exception as e:\n",
        "    print(e)\n",
        "    print(city, arrival_date, departure_date)"
      ]
    },
    {
      "cell_type": "markdown",
      "metadata": {
        "id": "eHQMnHfmq29F"
      },
      "source": [
        "# Transportation\n",
        "\n",
        "Find out more in: https://openrouteservice.org/dev/#/api-docs/optimization/post\n",
        "Alternatives: https://github.com/graphhopper/graphhopper/blob/master/README.md#Map-Matching\n",
        "https://github.com/VROOM-Project/vroom/blob/master/docs/API.md"
      ]
    },
    {
      "cell_type": "code",
      "execution_count": null,
      "metadata": {
        "id": "n1ahJEobq4NU"
      },
      "outputs": [],
      "source": []
    }
  ],
  "metadata": {
    "colab": {
      "provenance": []
    },
    "kernelspec": {
      "display_name": "tpc-di",
      "language": "python",
      "name": "python3"
    },
    "language_info": {
      "codemirror_mode": {
        "name": "ipython",
        "version": 3
      },
      "file_extension": ".py",
      "mimetype": "text/x-python",
      "name": "python",
      "nbconvert_exporter": "python",
      "pygments_lexer": "ipython3",
      "version": "3.12.7"
    }
  },
  "nbformat": 4,
  "nbformat_minor": 0
}
