{
 "cells": [
  {
   "cell_type": "code",
   "execution_count": null,
   "id": "edcf88e4",
   "metadata": {},
   "outputs": [
    {
     "name": "stdout",
     "output_type": "stream",
     "text": [
      "Distancia aproximada: 1.97 km\n",
      "Adjacentes\n"
     ]
    }
   ],
   "source": [
    "import requests\n",
    "from shapely.geometry import shape, Point, Polygon, MultiPolygon\n",
    "from shapely.ops import nearest_points\n",
    "\n",
    "def get_zip_polygon_osm(zip_code, country_code):\n",
    "    url = f\"https://nominatim.openstreetmap.org/search?postalcode={zip_code}&countrycodes={country_code}&format=geojson&polygon_geojson=1\"\n",
    "    headers = {'User-Agent': 'Mozilla/5.0'}\n",
    "    res = requests.get(url, headers=headers)\n",
    "\n",
    "    if res.status_code == 200 and len(res.json()['features']) > 0:\n",
    "        geom = res.json()['features'][0]['geometry']\n",
    "        return shape(geom)\n",
    "    else:\n",
    "        return None\n",
    "\n",
    "def calculate_distance_km(geom1, geom2):\n",
    "    if isinstance(geom1, (Point)) and isinstance(geom2, (Point)):\n",
    "        return geom1.distance(geom2) * 111  # Aproximación grados a km (latitud)\n",
    "    elif isinstance(geom1, (Polygon, MultiPolygon)) and isinstance(geom2, (Polygon, MultiPolygon)):\n",
    "        p1, p2 = nearest_points(geom1.boundary, geom2.boundary)\n",
    "        return p1.distance(p2) * 111\n",
    "    elif isinstance(geom1, Point) and isinstance(geom2, (Polygon, MultiPolygon)):\n",
    "        p1, p2 = nearest_points(geom1, geom2.boundary)\n",
    "        return p1.distance(p2) * 111\n",
    "    elif isinstance(geom2, Point) and isinstance(geom1, (Polygon, MultiPolygon)):\n",
    "        p1, p2 = nearest_points(geom2, geom1.boundary)\n",
    "        return p1.distance(p2) * 111\n",
    "    else:\n",
    "        raise ValueError(\"Unvalid Geometry\")\n",
    "\n",
    "def are_adjacent(geom1, geom2):\n",
    "    if isinstance(geom1, (Polygon, MultiPolygon)) and isinstance(geom2, (Polygon, MultiPolygon)):\n",
    "        return geom1.touches(geom2)\n",
    "    return False\n",
    "\n",
    "zip1 = get_zip_polygon_osm(\"08034\", \"ES\")  # Barcelona\n",
    "zip2 = get_zip_polygon_osm(\"08028\", \"ES\")  # Barcelona\n",
    "\n",
    "if zip1 and zip2:\n",
    "    dist_km = calculate_distance_km(zip1, zip2)\n",
    "    if dist_km < 3: \n",
    "        print(\"Adjacent\")\n",
    "    else:\n",
    "        print(\"Not adyacent\")\n"
   ]
  }
 ],
 "metadata": {
  "kernelspec": {
   "display_name": "tpc-di",
   "language": "python",
   "name": "python3"
  },
  "language_info": {
   "codemirror_mode": {
    "name": "ipython",
    "version": 3
   },
   "file_extension": ".py",
   "mimetype": "text/x-python",
   "name": "python",
   "nbconvert_exporter": "python",
   "pygments_lexer": "ipython3",
   "version": "3.12.2"
  }
 },
 "nbformat": 4,
 "nbformat_minor": 5
}
